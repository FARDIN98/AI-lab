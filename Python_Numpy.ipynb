{
  "nbformat": 4,
  "nbformat_minor": 0,
  "metadata": {
    "colab": {
      "provenance": [],
      "authorship_tag": "ABX9TyMu2/w2SUiRbgstfGU+g/YC",
      "include_colab_link": true
    },
    "kernelspec": {
      "name": "python3",
      "display_name": "Python 3"
    },
    "language_info": {
      "name": "python"
    }
  },
  "cells": [
    {
      "cell_type": "markdown",
      "metadata": {
        "id": "view-in-github",
        "colab_type": "text"
      },
      "source": [
        "<a href=\"https://colab.research.google.com/github/FARDIN98/AI-lab/blob/main/Python_Numpy.ipynb\" target=\"_parent\"><img src=\"https://colab.research.google.com/assets/colab-badge.svg\" alt=\"Open In Colab\"/></a>"
      ]
    },
    {
      "cell_type": "markdown",
      "source": [],
      "metadata": {
        "id": "Yb0IBg1AiXCq"
      }
    },
    {
      "cell_type": "markdown",
      "source": [
        "NumPy is the fundamental package for scientific computing in Python. It is a Python library that provides a multidimensional array object, various derived object(such as masked arrays and matrics) and an assortment of routines for fast operations on arrays including mathmetical, logical, shape manipulation, sorting, selecting, I/Q, discrete fourier transforms.\n",
        "\n"
      ],
      "metadata": {
        "id": "8tMo59qbiZHM"
      }
    },
    {
      "cell_type": "code",
      "source": [
        "#importing the numpy module\n",
        "import numpy as np\n",
        "#empty array\n",
        "arr1=np.empty((4,5,2))\n",
        "print(arr1)"
      ],
      "metadata": {
        "colab": {
          "base_uri": "https://localhost:8080/"
        },
        "id": "RO7tjP5dYQfD",
        "outputId": "2d9cc6a2-d3c4-46f9-cc2a-396c570e446d"
      },
      "execution_count": 2,
      "outputs": [
        {
          "output_type": "stream",
          "name": "stdout",
          "text": [
            "[[[2.22067883e-316 0.00000000e+000]\n",
            "  [3.57269797e-263 3.06694704e-314]\n",
            "  [4.58987690e-311 7.87009235e-251]\n",
            "  [5.54125273e-302 0.00000000e+000]\n",
            "  [8.81442589e-280 8.73990206e+245]]\n",
            "\n",
            " [[7.85077093e+122 5.83336491e-302]\n",
            "  [1.64290199e-287 4.43882662e-301]\n",
            "  [1.98544252e-263 5.59923516e-249]\n",
            "  [4.44611785e-301 6.75611097e-225]\n",
            "  [1.90829145e-210 4.45340908e-301]]\n",
            "\n",
            " [[2.29898549e-186 6.50368725e-172]\n",
            "  [4.46070032e-301 7.46897930e-301]\n",
            "  [2.68196195e-297 4.76349988e-287]\n",
            "  [3.01378736e-282 1.63423933e-301]\n",
            "  [7.90684955e-148 7.65498426e-297]]\n",
            "\n",
            " [[2.50686974e-292 1.55896071e-307]\n",
            "  [1.78019083e-306 2.62430329e-139]\n",
            "  [7.22769604e+159 2.60985689e+180]\n",
            "  [1.67793063e+243 3.17095867e+180]\n",
            "  [4.53144912e+217 2.82875490e-110]]]\n"
          ]
        }
      ]
    },
    {
      "cell_type": "code",
      "source": [
        "#zeros\n",
        "arr2=np.zeros((2,3))\n",
        "print(arr2)"
      ],
      "metadata": {
        "colab": {
          "base_uri": "https://localhost:8080/"
        },
        "id": "O_6FzVy_actW",
        "outputId": "a2a9fed6-a52e-4ea5-9f51-c077d8dd8fb2"
      },
      "execution_count": null,
      "outputs": [
        {
          "output_type": "stream",
          "name": "stdout",
          "text": [
            "[[0. 0. 0.]\n",
            " [0. 0. 0.]]\n"
          ]
        }
      ]
    },
    {
      "cell_type": "code",
      "source": [
        "#ones\n",
        "arr3 = np.ones((3,2))\n",
        "print(arr3)"
      ],
      "metadata": {
        "colab": {
          "base_uri": "https://localhost:8080/"
        },
        "id": "zvMZ7wera6wa",
        "outputId": "56a0f464-0119-4d32-fcc0-39d7f5d52a86"
      },
      "execution_count": null,
      "outputs": [
        {
          "output_type": "stream",
          "name": "stdout",
          "text": [
            "[[1. 1.]\n",
            " [1. 1.]\n",
            " [1. 1.]]\n"
          ]
        }
      ]
    },
    {
      "cell_type": "code",
      "source": [
        "#prefilled up\n",
        "arr4 = np.full((3,2),-1000)\n",
        "print(arr4)"
      ],
      "metadata": {
        "colab": {
          "base_uri": "https://localhost:8080/"
        },
        "id": "R-Qsa43dcgAZ",
        "outputId": "4b111403-da0f-440b-c9ff-7ec494849a96"
      },
      "execution_count": null,
      "outputs": [
        {
          "output_type": "stream",
          "name": "stdout",
          "text": [
            "[[-1000 -1000]\n",
            " [-1000 -1000]\n",
            " [-1000 -1000]]\n"
          ]
        }
      ]
    },
    {
      "cell_type": "code",
      "source": [
        "#identity matrix\n",
        "'''\n",
        "[[1,0,0],\n",
        " [0,1,0],\n",
        " [0,0,1]\n",
        " ]\n",
        "'''\n",
        "\n",
        "arr5 = np.identity(4)\n",
        "print(arr5)\n"
      ],
      "metadata": {
        "colab": {
          "base_uri": "https://localhost:8080/"
        },
        "id": "tpeCSmXIcrG1",
        "outputId": "8e89fe8c-5dab-40d4-af30-a7433661abbd"
      },
      "execution_count": null,
      "outputs": [
        {
          "output_type": "stream",
          "name": "stdout",
          "text": [
            "[[1. 0. 0. 0.]\n",
            " [0. 1. 0. 0.]\n",
            " [0. 0. 1. 0.]\n",
            " [0. 0. 0. 1.]]\n"
          ]
        }
      ]
    },
    {
      "cell_type": "code",
      "source": [
        "#manual array build up\n",
        "\n",
        "arr6 = np.array([[1,2,3],\n",
        "                 [4,5,6]])\n",
        "print(arr6)\n",
        "\n",
        "arr7 = np.array([1,2,3], dtype=float)\n",
        "print(arr7)"
      ],
      "metadata": {
        "colab": {
          "base_uri": "https://localhost:8080/"
        },
        "id": "8EdRXbOoeXMv",
        "outputId": "7372c89f-bcd8-4b6f-c1c0-c5cc52960216"
      },
      "execution_count": null,
      "outputs": [
        {
          "output_type": "stream",
          "name": "stdout",
          "text": [
            "[[1 2 3]\n",
            " [4 5 6]]\n",
            "[1. 2. 3.]\n"
          ]
        }
      ]
    },
    {
      "cell_type": "code",
      "source": [
        "#array from a range value\n",
        "arr8=np.arange(1,100,3) #upto 99\n",
        "print(arr8)"
      ],
      "metadata": {
        "colab": {
          "base_uri": "https://localhost:8080/"
        },
        "id": "WNovrL9sfhJR",
        "outputId": "c4a780db-4f3a-4267-a70a-ec49a473b4bb"
      },
      "execution_count": null,
      "outputs": [
        {
          "output_type": "stream",
          "name": "stdout",
          "text": [
            "[ 1  4  7 10 13 16 19 22 25 28 31 34 37 40 43 46 49 52 55 58 61 64 67 70\n",
            " 73 76 79 82 85 88 91 94 97]\n"
          ]
        }
      ]
    },
    {
      "cell_type": "code",
      "source": [
        "#array from a range value\n",
        "arr9 = np.linspace(0,1,35) #will generate 35 equidistant number from 0 to 1\n",
        "print(arr9)"
      ],
      "metadata": {
        "colab": {
          "base_uri": "https://localhost:8080/"
        },
        "id": "N8A10zR8goCC",
        "outputId": "3075f733-c9b1-4455-eeb9-0926338dddec"
      },
      "execution_count": null,
      "outputs": [
        {
          "output_type": "stream",
          "name": "stdout",
          "text": [
            "[0.         0.02941176 0.05882353 0.08823529 0.11764706 0.14705882\n",
            " 0.17647059 0.20588235 0.23529412 0.26470588 0.29411765 0.32352941\n",
            " 0.35294118 0.38235294 0.41176471 0.44117647 0.47058824 0.5\n",
            " 0.52941176 0.55882353 0.58823529 0.61764706 0.64705882 0.67647059\n",
            " 0.70588235 0.73529412 0.76470588 0.79411765 0.82352941 0.85294118\n",
            " 0.88235294 0.91176471 0.94117647 0.97058824 1.        ]\n"
          ]
        }
      ]
    },
    {
      "cell_type": "code",
      "source": [
        "#manual array build up\n",
        "\n",
        "myarr=np.array([[1,2,3],\n",
        "                [4,5,6]]) #array function returns an array type object\n",
        "\n",
        "print(myarr)\n",
        "#----------------------------------------------------------------------\n",
        "\n",
        "print(myarr.ndim) #ei array te koto dimension er sheta dekhabe\n",
        "print(myarr.shape) #ram ber korte shape use hoy\n",
        "print(myarr.size) #total koyta element ase sheta ber korte size use hoy\n",
        "print(myarr.dtype) #array er data type ber korte use hoy\n",
        "print(myarr.T) #return the transpose matrix"
      ],
      "metadata": {
        "id": "_vWXZ6Qxiko5",
        "colab": {
          "base_uri": "https://localhost:8080/"
        },
        "outputId": "15a1ce1b-384e-4b8a-d5c6-14dd4d3bc582"
      },
      "execution_count": 5,
      "outputs": [
        {
          "output_type": "stream",
          "name": "stdout",
          "text": [
            "[[1 2 3]\n",
            " [4 5 6]]\n",
            "2\n",
            "(2, 3)\n",
            "int64\n",
            "[[1 4]\n",
            " [2 5]\n",
            " [3 6]]\n"
          ]
        }
      ]
    },
    {
      "cell_type": "code",
      "source": [
        "#calculation\n",
        "#default: numpy array works element-wise = broadcasting(reduces number of for loop)\n",
        "\n",
        "arr1=np.array([[1,2,3,4],\n",
        "               [5,6,7,8]])\n",
        "\n",
        "print(arr1 + 10)"
      ],
      "metadata": {
        "colab": {
          "base_uri": "https://localhost:8080/"
        },
        "id": "Hgl9szxL_o15",
        "outputId": "3827166b-a025-4495-cc94-9aa94c0311ca"
      },
      "execution_count": 6,
      "outputs": [
        {
          "output_type": "stream",
          "name": "stdout",
          "text": [
            "[[11 12 13 14]\n",
            " [15 16 17 18]]\n"
          ]
        }
      ]
    }
  ]
}