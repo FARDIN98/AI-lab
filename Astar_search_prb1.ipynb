{
  "nbformat": 4,
  "nbformat_minor": 0,
  "metadata": {
    "colab": {
      "provenance": [],
      "authorship_tag": "ABX9TyNBXBlaPUpuLC1vUvht3g7i",
      "include_colab_link": true
    },
    "kernelspec": {
      "name": "python3",
      "display_name": "Python 3"
    },
    "language_info": {
      "name": "python"
    }
  },
  "cells": [
    {
      "cell_type": "markdown",
      "metadata": {
        "id": "view-in-github",
        "colab_type": "text"
      },
      "source": [
        "<a href=\"https://colab.research.google.com/github/FARDIN98/AI-lab/blob/main/Astar_search_prb1.ipynb\" target=\"_parent\"><img src=\"https://colab.research.google.com/assets/colab-badge.svg\" alt=\"Open In Colab\"/></a>"
      ]
    },
    {
      "cell_type": "code",
      "execution_count": 3,
      "metadata": {
        "id": "k-5fwiYua_Az"
      },
      "outputs": [],
      "source": [
        "import queue\n",
        "\n",
        "class TreasureHunter:\n",
        "    def __init__(self, start, goal, obstacles):\n",
        "        \"\"\"\n",
        "        Initialize the TreasureHunter class with the start position, goal position and obstacles.\n",
        "        \"\"\"\n",
        "        self.start = start\n",
        "        self.goal = goal\n",
        "        self.obstacles = obstacles\n",
        "\n",
        "    def manhattan_distance(self, x, y):\n",
        "        \"\"\"\n",
        "        Calculate the Manhattan distance between two points x and y.\n",
        "        \"\"\"\n",
        "        return abs(x[0] - y[0]) + abs(x[1] - y[1])\n",
        "\n",
        "    def get_neighbors(self, pos):\n",
        "        \"\"\"\n",
        "        Return a list of valid neighbors for a given position.\n",
        "        \"\"\"\n",
        "        neighbors = []\n",
        "        x, y = pos\n",
        "\n",
        "        # Check for valid neighbors in all four directions (up, down, left, right)\n",
        "        # Loop over each direction: up (0, 1), down (0, -1), right (1, 0), left (-1, 0)\n",
        "        for dx, dy in [(0, 1), (0, -1), (1, 0), (-1, 0)]:\n",
        "          # Calculate the next position by adding the direction to the current position\n",
        "            nx, ny = x + dx, y + dy\n",
        "            # Check if the next position is within the bounds of the grid and not an obstacle\n",
        "            if 0 <= nx < 10 and 0 <= ny < 10 and (nx, ny) not in self.obstacles:\n",
        "                neighbors.append((nx, ny))\n",
        "\n",
        "        return neighbors\n",
        "\n",
        "    def a_star_search(self):\n",
        "        \"\"\"\n",
        "        Perform A* search to find the optimal path from start to goal.\n",
        "        \"\"\"\n",
        "        frontier = queue.PriorityQueue()  # Initialize the priority queue for nodes to be explored\n",
        "        frontier.put((0, self.start))  # Insert the start node with priority 0\n",
        "        came_from = {self.start: None}  # Initialize the dictionary to keep track of the parent of each node in the optimal path\n",
        "        cost_so_far = {self.start: 0}  # Initialize the dictionary to keep track of the cost of reaching each node\n",
        "\n",
        "        while not frontier.empty():  # Loop until the frontier is empty\n",
        "            _, current = frontier.get()  # Get the node with the lowest priority (i.e., the next node to be expanded)\n",
        "\n",
        "            if current == self.goal:  # Check if the goal node has been reached\n",
        "                break\n",
        "\n",
        "            # Loop over the neighbors of the current node\n",
        "            for next_pos in self.get_neighbors(current):\n",
        "                new_cost = cost_so_far[current] + 1  # Calculate the cost of reaching the next neighbor\n",
        "                # Check if the next neighbor has not been visited or if the new cost is lower than the previous cost\n",
        "                if next_pos not in cost_so_far or new_cost < cost_so_far[next_pos]:\n",
        "                    # Update the cost and priority of the next neighbor if it has not been visited or if the new cost is lower\n",
        "                    cost_so_far[next_pos] = new_cost\n",
        "                    priority = new_cost + self.manhattan_distance(self.goal, next_pos)\n",
        "                    # Add the next neighbor to the frontier with its new priority\n",
        "                    frontier.put((priority, next_pos))\n",
        "                    came_from[next_pos] = current  # Update the parent of the next neighbor\n",
        "\n",
        "        # Reconstruct the optimal path by following the parent pointers from the goal node to the start node\n",
        "        # Initialize an empty list to store the optimal path\n",
        "        path = []\n",
        "        # Get the cost of the optimal path\n",
        "        cost = cost_so_far[self.goal]\n",
        "        # Reconstruct the optimal path by following the parent pointers from the goal node to the start node\n",
        "        while current != self.start:\n",
        "           # Add the current node to the path\n",
        "            path.append(current)\n",
        "             # Update the current node to its parent in the optimal path\n",
        "            current = came_from[current]\n",
        "        # Add the start node to the path\n",
        "        path.append(self.start)\n",
        "        # Reverse the order of the path to get it from start to goal\n",
        "        path.reverse()\n",
        "\n",
        "        return path, cost  # Return the optimal path and its cost"
      ]
    },
    {
      "cell_type": "code",
      "source": [
        "start = (0, 0)\n",
        "goal = (8, 8)\n",
        "obstacles = [(2, 2), (3, 2), (4, 2), (5, 2), (6, 2), (7, 2), (7, 3), (7, 4), (7, 5), (3, 7), (4, 7), (5, 7), (6, 7)]\n",
        "\n",
        "hunter = TreasureHunter(start, goal, obstacles)\n",
        "path, cost = hunter.a_star_search()\n",
        "\n",
        "print(\"Optimal path:\", path)\n",
        "print(\"Cost:\", cost)"
      ],
      "metadata": {
        "colab": {
          "base_uri": "https://localhost:8080/"
        },
        "id": "HyUINceQbJMo",
        "outputId": "8f83a5ba-7c13-424c-d570-f3e77d5bb14a"
      },
      "execution_count": 4,
      "outputs": [
        {
          "output_type": "stream",
          "name": "stdout",
          "text": [
            "Optimal path: [(0, 0), (0, 1), (0, 2), (0, 3), (0, 4), (0, 5), (0, 6), (0, 7), (0, 8), (1, 8), (2, 8), (3, 8), (4, 8), (5, 8), (6, 8), (7, 8), (8, 8)]\n",
            "Cost: 16\n"
          ]
        }
      ]
    }
  ]
}