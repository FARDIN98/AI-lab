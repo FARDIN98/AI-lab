{
  "nbformat": 4,
  "nbformat_minor": 0,
  "metadata": {
    "colab": {
      "provenance": [],
      "authorship_tag": "ABX9TyM3Ym3huHnRF/xhw8ZXmGT6",
      "include_colab_link": true
    },
    "kernelspec": {
      "name": "python3",
      "display_name": "Python 3"
    },
    "language_info": {
      "name": "python"
    }
  },
  "cells": [
    {
      "cell_type": "markdown",
      "metadata": {
        "id": "view-in-github",
        "colab_type": "text"
      },
      "source": [
        "<a href=\"https://colab.research.google.com/github/FARDIN98/AI-lab/blob/main/PythonTutorial_for_AI.ipynb\" target=\"_parent\"><img src=\"https://colab.research.google.com/assets/colab-badge.svg\" alt=\"Open In Colab\"/></a>"
      ]
    },
    {
      "cell_type": "markdown",
      "source": [
        "Python is an easy to learn, powerful programming language(very high level language). It has effecient high-level data structures and a simple but effective approach to object-oriented programming. Python's elegent syntax and dynamic typing, together its interpreted nature, make it an ideal language for scripting and rapid action development in many areas on most platforms.\n",
        "\n",
        "Programs written in Python are typically much shorter then equivalent C, C++, or JAVA programs, for several reasons:\n",
        "\n",
        "\n",
        "*   The high-level data types allow you to express complex operations in a single statement;\n",
        "*   Statement grouping is done by indentation instead of beginning and ending brackets;\n",
        "* No variable or arguement declarations are necessary.\n",
        "\n",
        "Python is named after the BBC show \"Monty Python's Flying Circus\" and has nothing to do with reptiles.\n",
        "\n"
      ],
      "metadata": {
        "id": "vBEYYFTjY15u"
      }
    },
    {
      "cell_type": "code",
      "source": [
        "#single-line comment\n",
        "'''multi-line\n",
        "comment\n",
        "in \n",
        "python'''\n",
        "\n",
        "print(\"Hello, world!\")"
      ],
      "metadata": {
        "colab": {
          "base_uri": "https://localhost:8080/"
        },
        "id": "RZakHfdOcmFU",
        "outputId": "d5497558-e45a-4bfb-ab86-422ed1fcf8b6"
      },
      "execution_count": null,
      "outputs": [
        {
          "output_type": "stream",
          "name": "stdout",
          "text": [
            "Hello, world!\n"
          ]
        }
      ]
    },
    {
      "cell_type": "code",
      "source": [
        "#single-line comment\n",
        "a = 10\n",
        "\n",
        "\n",
        "#multi-line comment\n",
        "b = 1+2+3+\\\n",
        "    4+5+6\\\n",
        "    +7\n",
        "\n",
        "#for perenthesis (), {}, [], no explicit line-continuation is necessary\n",
        "c = (1+2+3\n",
        "     +4+5)\n",
        "\n",
        "print(a,b,c) #will print the value of a, b and c space separated"
      ],
      "metadata": {
        "colab": {
          "base_uri": "https://localhost:8080/"
        },
        "id": "OgPWlZqV1MyF",
        "outputId": "d57ebb9f-1d75-448c-bdf4-34284b0d1bbf"
      },
      "execution_count": null,
      "outputs": [
        {
          "output_type": "stream",
          "name": "stdout",
          "text": [
            "10 28 15\n"
          ]
        }
      ]
    },
    {
      "cell_type": "code",
      "source": [
        "#in python, you do not have to explicitly define the variable type\n",
        "#In python, we don't actually assign values to the variables. Instead, python gives the reference of the object(values) to the variable\n",
        "\n",
        "#assign\n",
        "var1 = 0   #this var1 refers to the object(containing 10)\n",
        "print(var1)\n",
        "\n",
        "#assign multiple values to multiple variables\n",
        "var2,var3,var4 = 20, 30.5, \"python is fun\"\n",
        "print(var2,var3,var4)\n",
        "\n",
        "#assign same value to multiple variables\n",
        "var5=var6=var7=\"same value\"\n",
        "print(var5)\n",
        "print(var6)\n",
        "print(var7)"
      ],
      "metadata": {
        "colab": {
          "base_uri": "https://localhost:8080/"
        },
        "id": "ElnhgSIC1_60",
        "outputId": "6736bbcf-11c4-4738-ee60-d94e13784e1e"
      },
      "execution_count": null,
      "outputs": [
        {
          "output_type": "stream",
          "name": "stdout",
          "text": [
            "0\n",
            "20 30.5 python is fun\n",
            "same value\n",
            "same value\n",
            "same value\n"
          ]
        }
      ]
    },
    {
      "cell_type": "code",
      "source": [
        "#Numeric Literals\n",
        "#Literal = constant value\n",
        "num1 = 0b1010\n",
        "num2 = 10\n",
        "num3 = 0o12\n",
        "num4 = 0xA\n",
        "\n",
        "print(num1, num2, num3, num4)"
      ],
      "metadata": {
        "colab": {
          "base_uri": "https://localhost:8080/"
        },
        "id": "GvGaZrheg1r4",
        "outputId": "69b42197-3b9e-41fe-83c6-5cd75839fff7"
      },
      "execution_count": null,
      "outputs": [
        {
          "output_type": "stream",
          "name": "stdout",
          "text": [
            "10 10 10 10\n"
          ]
        }
      ]
    },
    {
      "cell_type": "code",
      "source": [
        "#float literal \n",
        "float1 = 3.1416\n",
        "float2 = 3.5e5\n",
        "\n",
        "print(float1, float2)"
      ],
      "metadata": {
        "colab": {
          "base_uri": "https://localhost:8080/"
        },
        "id": "tw2DKSxhhkuk",
        "outputId": "68e66678-d247-47ca-f719-8f96e8468898"
      },
      "execution_count": null,
      "outputs": [
        {
          "output_type": "stream",
          "name": "stdout",
          "text": [
            "3.1416 350000.0\n"
          ]
        }
      ]
    },
    {
      "cell_type": "code",
      "source": [
        "#complex literal \n",
        "comp1 = 3 + 4j\n",
        "print(comp1)\n",
        "print(comp1.real)\n",
        "print(comp1.imag)"
      ],
      "metadata": {
        "colab": {
          "base_uri": "https://localhost:8080/"
        },
        "id": "tBEZZnfSh0aJ",
        "outputId": "3484ed20-f708-4cfc-ff12-fca59399f7f8"
      },
      "execution_count": null,
      "outputs": [
        {
          "output_type": "stream",
          "name": "stdout",
          "text": [
            "(3+4j)\n",
            "3.0\n",
            "4.0\n"
          ]
        }
      ]
    },
    {
      "cell_type": "code",
      "source": [
        "#string literal\n",
        "str1 = 'single quoted string'\n",
        "str2 = 'double quoted string'\n",
        "str3 = '''multi-line \n",
        "string \n",
        "  with tab'''\n",
        "\n",
        "print(str1)\n",
        "print(str2)\n",
        "print(str3)"
      ],
      "metadata": {
        "colab": {
          "base_uri": "https://localhost:8080/"
        },
        "id": "0Q9efrTq7KS4",
        "outputId": "cdb40f54-016e-4ac3-ee48-07cc16cdc689"
      },
      "execution_count": 1,
      "outputs": [
        {
          "output_type": "stream",
          "name": "stdout",
          "text": [
            "single quoted string\n",
            "double quoted string\n",
            "multi-line \n",
            "string \n",
            "  with tab\n"
          ]
        }
      ]
    },
    {
      "cell_type": "code",
      "source": [
        "#boolean literal\n",
        "print(0==0)\n",
        "print(0==1)"
      ],
      "metadata": {
        "colab": {
          "base_uri": "https://localhost:8080/"
        },
        "id": "Z3-5RZVZ7oNP",
        "outputId": "5850f2e1-5f71-4bc6-aa21-3fc7971e2e5f"
      },
      "execution_count": 2,
      "outputs": [
        {
          "output_type": "stream",
          "name": "stdout",
          "text": [
            "True\n",
            "False\n"
          ]
        }
      ]
    },
    {
      "cell_type": "code",
      "source": [
        "#special literal\n",
        "#None represents the absence of value or a null value\n",
        "a = None\n",
        "print(a)"
      ],
      "metadata": {
        "colab": {
          "base_uri": "https://localhost:8080/"
        },
        "id": "vh_eY5nt7vdm",
        "outputId": "5f575597-9ec9-40c2-8822-d967c05b1de7"
      },
      "execution_count": 3,
      "outputs": [
        {
          "output_type": "stream",
          "name": "stdout",
          "text": [
            "None\n"
          ]
        }
      ]
    },
    {
      "cell_type": "code",
      "source": [
        "#everything is an object in python programming\n",
        "#data types are actually classes and values are instance of these classes\n",
        "num1 = 99\n",
        "print(type(num1))\n",
        "\n",
        "float1 = 3.1416\n",
        "print(type(float1))\n",
        "\n",
        "comp1 = 3+4j\n",
        "print(type(comp1))\n",
        "\n",
        "str1 = \"python is fun\"\n",
        "print(type(str1))\n",
        "\n",
        "print(type(True))\n",
        "\n",
        "print(type(None))\n",
        "\n",
        "#same class instance checking\n",
        "print(isinstance(comp1, complex))"
      ],
      "metadata": {
        "colab": {
          "base_uri": "https://localhost:8080/"
        },
        "id": "mP6dGmpZ87Tu",
        "outputId": "dc019d41-f375-43e8-efa6-3a4b694023d9"
      },
      "execution_count": 7,
      "outputs": [
        {
          "output_type": "stream",
          "name": "stdout",
          "text": [
            "<class 'int'>\n",
            "<class 'float'>\n",
            "<class 'complex'>\n",
            "<class 'str'>\n",
            "<class 'bool'>\n",
            "<class 'NoneType'>\n",
            "True\n"
          ]
        }
      ]
    },
    {
      "cell_type": "code",
      "source": [
        "#data type conversion\n",
        "num1 = 10\n",
        "print(float(num1))\n",
        "print(complex(num1))\n",
        "print(str(num1))\n",
        "\n",
        "float1 = 3.1416\n",
        "print(int(float1))\n",
        "print(complex(float1))\n",
        "print(str(float1))\n",
        "\n",
        "str1 = '10'\n",
        "print(int(str1))\n",
        "print(float(str1))\n",
        "print(complex(str1))"
      ],
      "metadata": {
        "colab": {
          "base_uri": "https://localhost:8080/"
        },
        "id": "3zKH-h8i_hF_",
        "outputId": "77c20f12-9d43-4ec2-b9ae-71d95e52a629"
      },
      "execution_count": 8,
      "outputs": [
        {
          "output_type": "stream",
          "name": "stdout",
          "text": [
            "10.0\n",
            "(10+0j)\n",
            "10\n",
            "3\n",
            "(3.1416+0j)\n",
            "3.1416\n",
            "10\n",
            "10.0\n",
            "(10+0j)\n"
          ]
        }
      ]
    },
    {
      "cell_type": "code",
      "source": [
        "#implicit type conversion\n",
        "num1 = 10\n",
        "num2 = 15.5\n",
        "print(num1 + num2)\n",
        "\n",
        "#explicit type conversion\n",
        "num1 = 10\n",
        "str1 = \"123\"\n",
        "#print(num1+str1) #error\n",
        "print(num1+int(str1))\n",
        "#or\n",
        "print(str(num1)+str1)"
      ],
      "metadata": {
        "colab": {
          "base_uri": "https://localhost:8080/"
        },
        "id": "FyOsAoUOA0x1",
        "outputId": "980e1659-84da-4624-f6a1-12f37f5eed28"
      },
      "execution_count": 10,
      "outputs": [
        {
          "output_type": "stream",
          "name": "stdout",
          "text": [
            "25.5\n",
            "133\n",
            "10123\n"
          ]
        }
      ]
    },
    {
      "cell_type": "code",
      "source": [
        "#python output\n",
        "#print(\"objects, sep='', end='\\n\", ........)\n",
        "print(\"Line 1\")\n",
        "print(\"Line 2\")\n",
        "print(\"Value =\", 10)\n",
        "print(\"Value\", 10, sep=' = ')\n",
        "print(\"portion 1\", end=\"\\t\")\n",
        "print(\"portion 2\")"
      ],
      "metadata": {
        "colab": {
          "base_uri": "https://localhost:8080/"
        },
        "id": "cuMSubxJFTe0",
        "outputId": "e2ffa9fa-0b3f-4cb2-dd1a-3dd23b1c2d1d"
      },
      "execution_count": 12,
      "outputs": [
        {
          "output_type": "stream",
          "name": "stdout",
          "text": [
            "Line 1\n",
            "Line 2\n",
            "Value = 10\n",
            "Value = 10\n",
            "portion 1\tportion 2\n"
          ]
        }
      ]
    },
    {
      "cell_type": "code",
      "source": [
        "#python formatted string\n",
        "val1, val2 = 10, 20\n",
        "str1 = \"Value 1 = {} and value 2 = {}\".format(val1, val2)\n",
        "print(str1)\n",
        "\n",
        "print(\"value 1 = {1} and value 2 = {0}\".format(val1,val2))\n",
        "print(\"value 1 = {key1} and value 2 = {key2}\".format(key1=val1, key2=val2))\n",
        "\n",
        "f1=2.56\n",
        "print(\"formatted value: {:08.5f}\".format(f1))\n",
        "print(\"formatted value: {key:08.5f}\".format(key=f1))"
      ],
      "metadata": {
        "colab": {
          "base_uri": "https://localhost:8080/"
        },
        "id": "AK_8motPIRwS",
        "outputId": "406a84f4-a1d7-46ee-f08d-5b6a69e7c4e1"
      },
      "execution_count": 13,
      "outputs": [
        {
          "output_type": "stream",
          "name": "stdout",
          "text": [
            "Value 1 = 10 and value 2 = 20\n",
            "value 1 = 20 and value 2 = 10\n",
            "value 1 = 10 and value 2 = 20\n",
            "formatted value: 02.56000\n",
            "formatted value: 02.56000\n"
          ]
        }
      ]
    },
    {
      "cell_type": "code",
      "source": [
        "#python input\n",
        "#input([optional prompt message]) always returns a str value\n",
        "\n",
        "num1=int(input(\"Enter an integer value: \"))\n",
        "print(num1, type(num1))\n",
        "\n",
        "f1=float(input(\"Enter a floating value: \"))\n",
        "print(f1,type(f1))\n",
        "\n",
        "str1=input(\"Enter your name: \")\n",
        "print(str1,type(str1))"
      ],
      "metadata": {
        "colab": {
          "base_uri": "https://localhost:8080/"
        },
        "id": "H1oCApwjLr1A",
        "outputId": "2127aed7-6cf5-4a99-8949-87543bceefed"
      },
      "execution_count": 14,
      "outputs": [
        {
          "output_type": "stream",
          "name": "stdout",
          "text": [
            "Enter an integer value: 10\n",
            "10 <class 'int'>\n",
            "Enter a floating value: 10.134\n",
            "10.134 <class 'float'>\n",
            "Enter your name: Fardinzzzzz\n",
            "Fardinzzzzz <class 'str'>\n"
          ]
        }
      ]
    }
  ]
}