{
  "nbformat": 4,
  "nbformat_minor": 0,
  "metadata": {
    "colab": {
      "provenance": [],
      "authorship_tag": "ABX9TyOvcOh5s11p9lCP2Tp8aQ1q",
      "include_colab_link": true
    },
    "kernelspec": {
      "name": "python3",
      "display_name": "Python 3"
    },
    "language_info": {
      "name": "python"
    }
  },
  "cells": [
    {
      "cell_type": "markdown",
      "metadata": {
        "id": "view-in-github",
        "colab_type": "text"
      },
      "source": [
        "<a href=\"https://colab.research.google.com/github/FARDIN98/AI-lab/blob/main/PythonTutorial_for_AI.ipynb\" target=\"_parent\"><img src=\"https://colab.research.google.com/assets/colab-badge.svg\" alt=\"Open In Colab\"/></a>"
      ]
    },
    {
      "cell_type": "code",
      "execution_count": null,
      "metadata": {
        "id": "gQfgrwLMYcEB"
      },
      "outputs": [],
      "source": []
    },
    {
      "cell_type": "markdown",
      "source": [
        "Python is an easy to learn, powerful programming language(very high level language). It has effecient high-level data structures and a simple but effective approach to object-oriented programming. Python's elegent syntax and dynamic typing, together its interpreted nature, make it an ideal language for scripting and rapid action development in many areas on most platforms.\n",
        "\n",
        "Programs written in Python are typically much shorter then equivalent C, C++, or JAVA programs, for several reasons:\n",
        "\n",
        "\n",
        "*   The high-level data types allow you to express complex operations in a single statement;\n",
        "*   Statement grouping is done by indentation instead of beginning and ending brackets;\n",
        "* No variable or arguement declarations are necessary.\n",
        "\n",
        "Python is named after the BBC show \"Monty Python's Flying Circus\" and has nothing to do with reptiles.\n",
        "\n"
      ],
      "metadata": {
        "id": "vBEYYFTjY15u"
      }
    },
    {
      "cell_type": "code",
      "source": [
        "#single-line comment\n",
        "'''multi-line\n",
        "comment\n",
        "in \n",
        "python'''\n",
        "\n",
        "print(\"Hello, world!\")"
      ],
      "metadata": {
        "colab": {
          "base_uri": "https://localhost:8080/"
        },
        "id": "RZakHfdOcmFU",
        "outputId": "d5497558-e45a-4bfb-ab86-422ed1fcf8b6"
      },
      "execution_count": 1,
      "outputs": [
        {
          "output_type": "stream",
          "name": "stdout",
          "text": [
            "Hello, world!\n"
          ]
        }
      ]
    }
  ]
}