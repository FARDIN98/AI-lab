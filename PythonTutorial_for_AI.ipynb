{
  "nbformat": 4,
  "nbformat_minor": 0,
  "metadata": {
    "colab": {
      "provenance": [],
      "authorship_tag": "ABX9TyOOFV+rd2Gg/W0+BpItUjhq",
      "include_colab_link": true
    },
    "kernelspec": {
      "name": "python3",
      "display_name": "Python 3"
    },
    "language_info": {
      "name": "python"
    }
  },
  "cells": [
    {
      "cell_type": "markdown",
      "metadata": {
        "id": "view-in-github",
        "colab_type": "text"
      },
      "source": [
        "<a href=\"https://colab.research.google.com/github/FARDIN98/AI-lab/blob/main/PythonTutorial_for_AI.ipynb\" target=\"_parent\"><img src=\"https://colab.research.google.com/assets/colab-badge.svg\" alt=\"Open In Colab\"/></a>"
      ]
    },
    {
      "cell_type": "markdown",
      "source": [
        "Python is an easy to learn, powerful programming language(very high level language). It has effecient high-level data structures and a simple but effective approach to object-oriented programming. Python's elegent syntax and dynamic typing, together its interpreted nature, make it an ideal language for scripting and rapid action development in many areas on most platforms.\n",
        "\n",
        "Programs written in Python are typically much shorter then equivalent C, C++, or JAVA programs, for several reasons:\n",
        "\n",
        "\n",
        "*   The high-level data types allow you to express complex operations in a single statement;\n",
        "*   Statement grouping is done by indentation instead of beginning and ending brackets;\n",
        "* No variable or arguement declarations are necessary.\n",
        "\n",
        "Python is named after the BBC show \"Monty Python's Flying Circus\" and has nothing to do with reptiles.\n",
        "\n"
      ],
      "metadata": {
        "id": "vBEYYFTjY15u"
      }
    },
    {
      "cell_type": "code",
      "source": [
        "#single-line comment\n",
        "'''multi-line\n",
        "comment\n",
        "in \n",
        "python'''\n",
        "\n",
        "print(\"Hello, world!\")"
      ],
      "metadata": {
        "colab": {
          "base_uri": "https://localhost:8080/"
        },
        "id": "RZakHfdOcmFU",
        "outputId": "d5497558-e45a-4bfb-ab86-422ed1fcf8b6"
      },
      "execution_count": null,
      "outputs": [
        {
          "output_type": "stream",
          "name": "stdout",
          "text": [
            "Hello, world!\n"
          ]
        }
      ]
    },
    {
      "cell_type": "code",
      "source": [
        "#single-line comment\n",
        "a = 10\n",
        "\n",
        "\n",
        "#multi-line comment\n",
        "b = 1+2+3+\\\n",
        "    4+5+6\\\n",
        "    +7\n",
        "\n",
        "#for perenthesis (), {}, [], no explicit line-continuation is necessary\n",
        "c = (1+2+3\n",
        "     +4+5)\n",
        "\n",
        "print(a,b,c) #will print the value of a, b and c space separated"
      ],
      "metadata": {
        "colab": {
          "base_uri": "https://localhost:8080/"
        },
        "id": "OgPWlZqV1MyF",
        "outputId": "d57ebb9f-1d75-448c-bdf4-34284b0d1bbf"
      },
      "execution_count": 1,
      "outputs": [
        {
          "output_type": "stream",
          "name": "stdout",
          "text": [
            "10 28 15\n"
          ]
        }
      ]
    },
    {
      "cell_type": "code",
      "source": [
        "#in python, you do not have to explicitly define the variable type\n",
        "#In python, we don't actually assign values to the variables. Instead, python gives the reference of the object(values) to the variable\n",
        "\n",
        "#assign\n",
        "var1 = 0\n",
        "print(var1)\n",
        "\n",
        "#assign multiple values to multiple variables\n",
        "var2,var3,var4 = 20, 30.5, \"python is fun\"\n",
        "print(var2,var3,var4)\n",
        "\n",
        "#assign same value to multiple variables\n",
        "var5=var6=var7=\"same value\"\n",
        "print(var5)\n",
        "print(var6)\n",
        "print(var7)"
      ],
      "metadata": {
        "colab": {
          "base_uri": "https://localhost:8080/"
        },
        "id": "ElnhgSIC1_60",
        "outputId": "6736bbcf-11c4-4738-ee60-d94e13784e1e"
      },
      "execution_count": 3,
      "outputs": [
        {
          "output_type": "stream",
          "name": "stdout",
          "text": [
            "0\n",
            "20 30.5 python is fun\n",
            "same value\n",
            "same value\n",
            "same value\n"
          ]
        }
      ]
    }
  ]
}