{
  "nbformat": 4,
  "nbformat_minor": 0,
  "metadata": {
    "colab": {
      "provenance": [],
      "authorship_tag": "ABX9TyPW+fD8+Zte5OE7nu24O6ko",
      "include_colab_link": true
    },
    "kernelspec": {
      "name": "python3",
      "display_name": "Python 3"
    },
    "language_info": {
      "name": "python"
    }
  },
  "cells": [
    {
      "cell_type": "markdown",
      "metadata": {
        "id": "view-in-github",
        "colab_type": "text"
      },
      "source": [
        "<a href=\"https://colab.research.google.com/github/FARDIN98/AI-lab/blob/main/PythonTutorial_for_AI.ipynb\" target=\"_parent\"><img src=\"https://colab.research.google.com/assets/colab-badge.svg\" alt=\"Open In Colab\"/></a>"
      ]
    },
    {
      "cell_type": "markdown",
      "source": [
        "Python is an easy to learn, powerful programming language(very high level language). It has effecient high-level data structures and a simple but effective approach to object-oriented programming. Python's elegent syntax and dynamic typing, together its interpreted nature, make it an ideal language for scripting and rapid action development in many areas on most platforms.\n",
        "\n",
        "Programs written in Python are typically much shorter then equivalent C, C++, or JAVA programs, for several reasons:\n",
        "\n",
        "\n",
        "*   The high-level data types allow you to express complex operations in a single statement;\n",
        "*   Statement grouping is done by indentation instead of beginning and ending brackets;\n",
        "* No variable or arguement declarations are necessary.\n",
        "\n",
        "Python is named after the BBC show \"Monty Python's Flying Circus\" and has nothing to do with reptiles.\n",
        "\n"
      ],
      "metadata": {
        "id": "vBEYYFTjY15u"
      }
    },
    {
      "cell_type": "code",
      "source": [
        "#single-line comment\n",
        "'''multi-line\n",
        "comment\n",
        "in \n",
        "python'''\n",
        "\n",
        "print(\"Hello, world!\")"
      ],
      "metadata": {
        "colab": {
          "base_uri": "https://localhost:8080/"
        },
        "id": "RZakHfdOcmFU",
        "outputId": "d5497558-e45a-4bfb-ab86-422ed1fcf8b6"
      },
      "execution_count": null,
      "outputs": [
        {
          "output_type": "stream",
          "name": "stdout",
          "text": [
            "Hello, world!\n"
          ]
        }
      ]
    },
    {
      "cell_type": "code",
      "source": [
        "#single-line comment\n",
        "a = 10\n",
        "\n",
        "\n",
        "#multi-line comment\n",
        "b = 1+2+3+\\\n",
        "    4+5+6\\\n",
        "    +7\n",
        "\n",
        "#for perenthesis (), {}, [], no explicit line-continuation is necessary\n",
        "c = (1+2+3\n",
        "     +4+5)\n",
        "\n",
        "print(a,b,c) #will print the value of a, b and c space separated"
      ],
      "metadata": {
        "colab": {
          "base_uri": "https://localhost:8080/"
        },
        "id": "OgPWlZqV1MyF",
        "outputId": "d57ebb9f-1d75-448c-bdf4-34284b0d1bbf"
      },
      "execution_count": null,
      "outputs": [
        {
          "output_type": "stream",
          "name": "stdout",
          "text": [
            "10 28 15\n"
          ]
        }
      ]
    },
    {
      "cell_type": "code",
      "source": [
        "#in python, you do not have to explicitly define the variable type\n",
        "#In python, we don't actually assign values to the variables. Instead, python gives the reference of the object(values) to the variable\n",
        "\n",
        "#assign\n",
        "var1 = 0   #this var1 refers to the object(containing 10)\n",
        "print(var1)\n",
        "\n",
        "#assign multiple values to multiple variables\n",
        "var2,var3,var4 = 20, 30.5, \"python is fun\"\n",
        "print(var2,var3,var4)\n",
        "\n",
        "#assign same value to multiple variables\n",
        "var5=var6=var7=\"same value\"\n",
        "print(var5)\n",
        "print(var6)\n",
        "print(var7)"
      ],
      "metadata": {
        "colab": {
          "base_uri": "https://localhost:8080/"
        },
        "id": "ElnhgSIC1_60",
        "outputId": "6736bbcf-11c4-4738-ee60-d94e13784e1e"
      },
      "execution_count": null,
      "outputs": [
        {
          "output_type": "stream",
          "name": "stdout",
          "text": [
            "0\n",
            "20 30.5 python is fun\n",
            "same value\n",
            "same value\n",
            "same value\n"
          ]
        }
      ]
    },
    {
      "cell_type": "code",
      "source": [
        "#Numeric Literals\n",
        "#Literal = constant value\n",
        "num1 = 0b1010\n",
        "num2 = 10\n",
        "num3 = 0o12\n",
        "num4 = 0xA\n",
        "\n",
        "print(num1, num2, num3, num4)"
      ],
      "metadata": {
        "colab": {
          "base_uri": "https://localhost:8080/"
        },
        "id": "GvGaZrheg1r4",
        "outputId": "69b42197-3b9e-41fe-83c6-5cd75839fff7"
      },
      "execution_count": null,
      "outputs": [
        {
          "output_type": "stream",
          "name": "stdout",
          "text": [
            "10 10 10 10\n"
          ]
        }
      ]
    },
    {
      "cell_type": "code",
      "source": [
        "#float literal \n",
        "float1 = 3.1416\n",
        "float2 = 3.5e5\n",
        "\n",
        "print(float1, float2)"
      ],
      "metadata": {
        "colab": {
          "base_uri": "https://localhost:8080/"
        },
        "id": "tw2DKSxhhkuk",
        "outputId": "68e66678-d247-47ca-f719-8f96e8468898"
      },
      "execution_count": null,
      "outputs": [
        {
          "output_type": "stream",
          "name": "stdout",
          "text": [
            "3.1416 350000.0\n"
          ]
        }
      ]
    },
    {
      "cell_type": "code",
      "source": [
        "#complex literal \n",
        "comp1 = 3 + 4j\n",
        "print(comp1)\n",
        "print(comp1.real)\n",
        "print(comp1.imag)"
      ],
      "metadata": {
        "colab": {
          "base_uri": "https://localhost:8080/"
        },
        "id": "tBEZZnfSh0aJ",
        "outputId": "3484ed20-f708-4cfc-ff12-fca59399f7f8"
      },
      "execution_count": null,
      "outputs": [
        {
          "output_type": "stream",
          "name": "stdout",
          "text": [
            "(3+4j)\n",
            "3.0\n",
            "4.0\n"
          ]
        }
      ]
    },
    {
      "cell_type": "code",
      "source": [
        "#string literal\n",
        "str1 = 'single quoted string'\n",
        "str2 = 'double quoted string'\n",
        "str3 = '''multi-line \n",
        "string \n",
        "  with tab'''\n",
        "\n",
        "print(str1)\n",
        "print(str2)\n",
        "print(str3)"
      ],
      "metadata": {
        "colab": {
          "base_uri": "https://localhost:8080/"
        },
        "id": "0Q9efrTq7KS4",
        "outputId": "cdb40f54-016e-4ac3-ee48-07cc16cdc689"
      },
      "execution_count": null,
      "outputs": [
        {
          "output_type": "stream",
          "name": "stdout",
          "text": [
            "single quoted string\n",
            "double quoted string\n",
            "multi-line \n",
            "string \n",
            "  with tab\n"
          ]
        }
      ]
    },
    {
      "cell_type": "code",
      "source": [
        "#boolean literal\n",
        "print(0==0)\n",
        "print(0==1)"
      ],
      "metadata": {
        "colab": {
          "base_uri": "https://localhost:8080/"
        },
        "id": "Z3-5RZVZ7oNP",
        "outputId": "5850f2e1-5f71-4bc6-aa21-3fc7971e2e5f"
      },
      "execution_count": null,
      "outputs": [
        {
          "output_type": "stream",
          "name": "stdout",
          "text": [
            "True\n",
            "False\n"
          ]
        }
      ]
    },
    {
      "cell_type": "code",
      "source": [
        "#special literal\n",
        "#None represents the absence of value or a null value\n",
        "a = None\n",
        "print(a)"
      ],
      "metadata": {
        "colab": {
          "base_uri": "https://localhost:8080/"
        },
        "id": "vh_eY5nt7vdm",
        "outputId": "5f575597-9ec9-40c2-8822-d967c05b1de7"
      },
      "execution_count": null,
      "outputs": [
        {
          "output_type": "stream",
          "name": "stdout",
          "text": [
            "None\n"
          ]
        }
      ]
    },
    {
      "cell_type": "code",
      "source": [
        "#everything is an object in python programming\n",
        "#data types are actually classes and values are instance of these classes\n",
        "num1 = 99\n",
        "print(type(num1))\n",
        "\n",
        "float1 = 3.1416\n",
        "print(type(float1))\n",
        "\n",
        "comp1 = 3+4j\n",
        "print(type(comp1))\n",
        "\n",
        "str1 = \"python is fun\"\n",
        "print(type(str1))\n",
        "\n",
        "print(type(True))\n",
        "\n",
        "print(type(None))\n",
        "\n",
        "#same class instance checking\n",
        "print(isinstance(comp1, complex))"
      ],
      "metadata": {
        "colab": {
          "base_uri": "https://localhost:8080/"
        },
        "id": "mP6dGmpZ87Tu",
        "outputId": "dc019d41-f375-43e8-efa6-3a4b694023d9"
      },
      "execution_count": null,
      "outputs": [
        {
          "output_type": "stream",
          "name": "stdout",
          "text": [
            "<class 'int'>\n",
            "<class 'float'>\n",
            "<class 'complex'>\n",
            "<class 'str'>\n",
            "<class 'bool'>\n",
            "<class 'NoneType'>\n",
            "True\n"
          ]
        }
      ]
    },
    {
      "cell_type": "code",
      "source": [
        "#data type conversion\n",
        "num1 = 10\n",
        "print(float(num1))\n",
        "print(complex(num1))\n",
        "print(str(num1))\n",
        "\n",
        "float1 = 3.1416\n",
        "print(int(float1))\n",
        "print(complex(float1))\n",
        "print(str(float1))\n",
        "\n",
        "str1 = '10'\n",
        "print(int(str1))\n",
        "print(float(str1))\n",
        "print(complex(str1))"
      ],
      "metadata": {
        "colab": {
          "base_uri": "https://localhost:8080/"
        },
        "id": "3zKH-h8i_hF_",
        "outputId": "77c20f12-9d43-4ec2-b9ae-71d95e52a629"
      },
      "execution_count": null,
      "outputs": [
        {
          "output_type": "stream",
          "name": "stdout",
          "text": [
            "10.0\n",
            "(10+0j)\n",
            "10\n",
            "3\n",
            "(3.1416+0j)\n",
            "3.1416\n",
            "10\n",
            "10.0\n",
            "(10+0j)\n"
          ]
        }
      ]
    },
    {
      "cell_type": "code",
      "source": [
        "#implicit type conversion\n",
        "num1 = 10\n",
        "num2 = 15.5\n",
        "print(num1 + num2)\n",
        "\n",
        "#explicit type conversion\n",
        "num1 = 10\n",
        "str1 = \"123\"\n",
        "#print(num1+str1) #error\n",
        "print(num1+int(str1))\n",
        "#or\n",
        "print(str(num1)+str1)"
      ],
      "metadata": {
        "colab": {
          "base_uri": "https://localhost:8080/"
        },
        "id": "FyOsAoUOA0x1",
        "outputId": "980e1659-84da-4624-f6a1-12f37f5eed28"
      },
      "execution_count": null,
      "outputs": [
        {
          "output_type": "stream",
          "name": "stdout",
          "text": [
            "25.5\n",
            "133\n",
            "10123\n"
          ]
        }
      ]
    },
    {
      "cell_type": "code",
      "source": [
        "#python output\n",
        "#print(\"objects, sep='', end='\\n\", ........)\n",
        "print(\"Line 1\")\n",
        "print(\"Line 2\")\n",
        "print(\"Value =\", 10)\n",
        "print(\"Value\", 10, sep=' = ')\n",
        "print(\"portion 1\", end=\"\\t\")\n",
        "print(\"portion 2\")"
      ],
      "metadata": {
        "colab": {
          "base_uri": "https://localhost:8080/"
        },
        "id": "cuMSubxJFTe0",
        "outputId": "e2ffa9fa-0b3f-4cb2-dd1a-3dd23b1c2d1d"
      },
      "execution_count": null,
      "outputs": [
        {
          "output_type": "stream",
          "name": "stdout",
          "text": [
            "Line 1\n",
            "Line 2\n",
            "Value = 10\n",
            "Value = 10\n",
            "portion 1\tportion 2\n"
          ]
        }
      ]
    },
    {
      "cell_type": "code",
      "source": [
        "#python formatted string\n",
        "val1, val2 = 10, 20\n",
        "str1 = \"Value 1 = {} and value 2 = {}\".format(val1, val2)\n",
        "print(str1)\n",
        "\n",
        "print(\"value 1 = {1} and value 2 = {0}\".format(val1,val2))\n",
        "print(\"value 1 = {key1} and value 2 = {key2}\".format(key1=val1, key2=val2))\n",
        "\n",
        "f1=2.56\n",
        "print(\"formatted value: {:08.5f}\".format(f1))\n",
        "print(\"formatted value: {key:08.5f}\".format(key=f1))"
      ],
      "metadata": {
        "colab": {
          "base_uri": "https://localhost:8080/"
        },
        "id": "AK_8motPIRwS",
        "outputId": "406a84f4-a1d7-46ee-f08d-5b6a69e7c4e1"
      },
      "execution_count": null,
      "outputs": [
        {
          "output_type": "stream",
          "name": "stdout",
          "text": [
            "Value 1 = 10 and value 2 = 20\n",
            "value 1 = 20 and value 2 = 10\n",
            "value 1 = 10 and value 2 = 20\n",
            "formatted value: 02.56000\n",
            "formatted value: 02.56000\n"
          ]
        }
      ]
    },
    {
      "cell_type": "code",
      "source": [
        "#python input\n",
        "#input([optional prompt message]) always returns a str value\n",
        "\n",
        "num1=int(input(\"Enter an integer value: \"))\n",
        "print(num1, type(num1))\n",
        "\n",
        "f1=float(input(\"Enter a floating value: \"))\n",
        "print(f1,type(f1))\n",
        "\n",
        "str1=input(\"Enter your name: \")\n",
        "print(str1,type(str1))"
      ],
      "metadata": {
        "colab": {
          "base_uri": "https://localhost:8080/"
        },
        "id": "H1oCApwjLr1A",
        "outputId": "2127aed7-6cf5-4a99-8949-87543bceefed"
      },
      "execution_count": null,
      "outputs": [
        {
          "output_type": "stream",
          "name": "stdout",
          "text": [
            "Enter an integer value: 10\n",
            "10 <class 'int'>\n",
            "Enter a floating value: 10.134\n",
            "10.134 <class 'float'>\n",
            "Enter your name: Fardinzzzzz\n",
            "Fardinzzzzz <class 'str'>\n"
          ]
        }
      ]
    },
    {
      "cell_type": "code",
      "source": [
        "#Pyhon module\n",
        "#A module is a file containing python definitions and statements\n",
        "#The file name is the module name with the suffix .py appended.\n",
        "#Modules can import other modules. It is customary but not required to place all import statements at the beginning of a module.\n",
        "#The imported module names are placed in the importing modules global symbol table\n",
        "\n",
        "import math\n",
        "print(math.pi)\n",
        "print(math.sqrt(16))\n",
        "\n",
        "from math import *   #try to avoid this practice\n",
        "print(pi)\n",
        "\n",
        "\n",
        "import math as m\n",
        "print(m.pi)\n",
        "\n",
        "from math import pi\n",
        "print(pi)\n",
        "\n",
        "from math import pi as p\n",
        "print(p)\n",
        "\n",
        "#Built-in function dir() is used to find out which names a module defines.\n",
        "print(dir(math))\n",
        "\n",
        "#Without arguements, dir() lists the names you have defined currently\n",
        "#dir() doesnt list the names of built-in functions and variables.\n",
        "print( dir() )"
      ],
      "metadata": {
        "id": "C5e0g14iQjNl",
        "colab": {
          "base_uri": "https://localhost:8080/"
        },
        "outputId": "81d7cbbd-fcf3-4044-c144-d1062470bb63"
      },
      "execution_count": null,
      "outputs": [
        {
          "output_type": "stream",
          "name": "stdout",
          "text": [
            "3.141592653589793\n",
            "4.0\n",
            "3.141592653589793\n",
            "3.141592653589793\n",
            "3.141592653589793\n",
            "3.141592653589793\n",
            "['__doc__', '__loader__', '__name__', '__package__', '__spec__', 'acos', 'acosh', 'asin', 'asinh', 'atan', 'atan2', 'atanh', 'ceil', 'comb', 'copysign', 'cos', 'cosh', 'degrees', 'dist', 'e', 'erf', 'erfc', 'exp', 'expm1', 'fabs', 'factorial', 'floor', 'fmod', 'frexp', 'fsum', 'gamma', 'gcd', 'hypot', 'inf', 'isclose', 'isfinite', 'isinf', 'isnan', 'isqrt', 'lcm', 'ldexp', 'lgamma', 'log', 'log10', 'log1p', 'log2', 'modf', 'nan', 'nextafter', 'perm', 'pi', 'pow', 'prod', 'radians', 'remainder', 'sin', 'sinh', 'sqrt', 'tan', 'tanh', 'tau', 'trunc', 'ulp']\n",
            "['In', 'Out', '_', '__', '___', '__builtin__', '__builtins__', '__doc__', '__loader__', '__name__', '__package__', '__spec__', '_dh', '_i', '_i1', '_ih', '_ii', '_iii', '_oh', 'acos', 'acosh', 'asin', 'asinh', 'atan', 'atan2', 'atanh', 'ceil', 'comb', 'copysign', 'cos', 'cosh', 'degrees', 'dist', 'e', 'erf', 'erfc', 'exit', 'exp', 'expm1', 'fabs', 'factorial', 'floor', 'fmod', 'frexp', 'fsum', 'gamma', 'gcd', 'get_ipython', 'hypot', 'inf', 'isclose', 'isfinite', 'isinf', 'isnan', 'isqrt', 'lcm', 'ldexp', 'lgamma', 'log', 'log10', 'log1p', 'log2', 'm', 'math', 'modf', 'nan', 'nextafter', 'p', 'perm', 'pi', 'pow', 'prod', 'quit', 'radians', 'remainder', 'sin', 'sinh', 'sqrt', 'tan', 'tanh', 'tau', 'trunc', 'ulp']\n"
          ]
        }
      ]
    },
    {
      "cell_type": "markdown",
      "source": [
        "\n",
        "\n",
        "![py_package.jpg](data:image/jpeg;base64,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)\n",
        "\n",
        "\n",
        "\n",
        "*   The __init__.py files are required to make treat directories containing the file as packages.\n",
        "*   In the simplest case __init__.py can just be empty file, but it can also execute initialization code for the package.\n",
        "\n"
      ],
      "metadata": {
        "id": "Z2QLcUkQelGM"
      }
    },
    {
      "cell_type": "code",
      "source": [
        "#Python operators\n",
        "#Same as C/CPP\n",
        "\n",
        "\n",
        "print(5/2)  #2.5\n",
        "print(5//2) #2\n",
        "print(5**2) #pow\n",
        "\n",
        "print(True and False)  #&&\n",
        "print(True or True)    #||\n",
        "print(not True)        # !\n",
        "\n",
        "\n",
        "#Remember: python doesnt have any pre-increment/post-increment operators, instead use i=i+1 or, i+=1\n",
        "\n",
        "print(\"----------------------------------------special operators------------------------------------\")\n",
        "#Speacial operator: 'is' and 'is not' operators check whether if two values(or variables) are located on the same part of the memory.\n",
        "x = True #x refers to the bool object(True)\n",
        "print(x is None)  #None means absence of value. NoneType object\n",
        "print(x is not None)\n",
        "print(x is True)\n",
        "\n",
        "print(\"----------------------------------------membership operators---------------------------------\")\n",
        "#membership operator: in/not in operator\n",
        "str1 = \"hello python\"\n",
        "print('hello' in str1)"
      ],
      "metadata": {
        "id": "pA5Rq64DIdIz"
      },
      "execution_count": null,
      "outputs": []
    },
    {
      "cell_type": "code",
      "source": [
        "#Name (or identifier) is simply a name given to objects.\n",
        "#Namespace is a mapping from names to objects.\n",
        "\n",
        "#Namespace are created at different moemnts and have different lifetimes.\n",
        "#(Built-in Namespace( Module: Global Namespace (Function: Local Namespace) ) )\n",
        "\n",
        "#The namespace containing the built-in names is created when the python interpreter starts up, and exists as long as the interpreter\n",
        "#List of built-in functions: https://docs.python.org/3/library/functions.html\n",
        "\n",
        "#The global namespace for a module is created when module definition is read in; normally, module namespace also last untill \n",
        "#Top-level invocation of the the interpreter to read from a script file, are considered part of a module called __main__\n",
        "\n",
        "#The local namespace for a function is created when the function is called, and deleted when the function returns or raises \n",
        "\n",
        "#Different scopes in python - sample code \n",
        "g = 10 #global variable   [built-in [global: g=10 [local: ]]]\n",
        "\n",
        "def f1():\n",
        "  global g      #referring global variable g\n",
        "  g = 20        #[built-in [global: g=20 [local: ] ] ]\n",
        "\n",
        "  nl = 20 #local for f1 and non-local for f2  [built-in [global: g=20 [local: nl=20] ] ]\n",
        "\n",
        "  def f2():\n",
        "    global g  #referring global variable g  [built-in [global: g=30 [local: nl=20 [local: ] ] ] ]\n",
        "    g = 30\n",
        "\n",
        "    nonlocal nl #referring non-local variable nl  [built-in [global: g=30 [local: nl=30 [local: ] ] ] ]\n",
        "    nl = 30\n",
        "\n",
        "    l = 30 #local variable for f2    [built-in [global: g=30 [local: nl=30 [local: l=30] ] ] ]\n",
        "    print(\"l = \", l)\n",
        "\n",
        "  f2()      #will set g to 30, nl to 30 and print the value of l\n",
        "  print('nl = ', nl) #will print updated nl value i.e. 30\n",
        "\n",
        "f1()\n",
        "print('g = ', g)"
      ],
      "metadata": {
        "colab": {
          "base_uri": "https://localhost:8080/"
        },
        "id": "ETrJBhwDMwZG",
        "outputId": "7f40e6d8-b352-4b3c-e100-3f19e31626d9"
      },
      "execution_count": null,
      "outputs": [
        {
          "output_type": "stream",
          "name": "stdout",
          "text": [
            "l =  30\n",
            "nl =  30\n",
            "g =  30\n"
          ]
        }
      ]
    },
    {
      "cell_type": "code",
      "source": [
        "#Python if-elif-else statement\n",
        "value = \"m\"\n",
        "\n",
        "if value == \"m\":\n",
        "  print(\"Alpha Male\")\n",
        "elif value == \"f\":\n",
        "    print(\"female\")\n",
        "else:\n",
        "  print(\"other\")"
      ],
      "metadata": {
        "colab": {
          "base_uri": "https://localhost:8080/"
        },
        "id": "zlEb5qGcQB87",
        "outputId": "07e443a3-5c3a-478d-9d72-1a83d49634c6"
      },
      "execution_count": 1,
      "outputs": [
        {
          "output_type": "stream",
          "name": "stdout",
          "text": [
            "Alpha Male\n"
          ]
        }
      ]
    },
    {
      "cell_type": "code",
      "source": [
        "#Built-in Types: range(stop) or, range(start, stop [, optional_step])\n",
        "print( list(range(8)) )\n",
        "print('-------------------------------------------------------------')\n",
        "print( list(range(3,8)) )\n",
        "print('-------------------------------------------------------------')\n",
        "print( list(range(3,8,2)) )\n",
        "print('-------------------------------------------------------------')\n",
        "\n",
        "\n",
        "\n",
        "#python for loop\n",
        "for val in range(10):\n",
        "  print(val)\n",
        "\n",
        "list1 = [10, 20, 30, 40]\n",
        "for val in list1:\n",
        "  print(val)"
      ],
      "metadata": {
        "colab": {
          "base_uri": "https://localhost:8080/"
        },
        "id": "budSvkGLQvsL",
        "outputId": "ffb0c60d-2775-48ae-d8b3-6c9818ac2651"
      },
      "execution_count": 2,
      "outputs": [
        {
          "output_type": "stream",
          "name": "stdout",
          "text": [
            "[0, 1, 2, 3, 4, 5, 6, 7]\n",
            "-------------------------------------------------------------\n",
            "[3, 4, 5, 6, 7]\n",
            "-------------------------------------------------------------\n",
            "[3, 5, 7]\n",
            "-------------------------------------------------------------\n",
            "0\n",
            "1\n",
            "2\n",
            "3\n",
            "4\n",
            "5\n",
            "6\n",
            "7\n",
            "8\n",
            "9\n",
            "10\n",
            "20\n",
            "30\n",
            "40\n"
          ]
        }
      ]
    }
  ]
}